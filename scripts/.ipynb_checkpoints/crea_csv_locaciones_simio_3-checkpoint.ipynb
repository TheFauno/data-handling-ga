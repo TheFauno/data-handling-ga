{
 "cells": [
  {
   "cell_type": "code",
   "execution_count": 93,
   "metadata": {},
   "outputs": [],
   "source": [
    "import pandas as pd"
   ]
  },
  {
   "cell_type": "markdown",
   "metadata": {},
   "source": [
    "# Lectura de ficheros"
   ]
  },
  {
   "cell_type": "code",
   "execution_count": 94,
   "metadata": {},
   "outputs": [
    {
     "data": {
      "text/html": [
       "<div>\n",
       "<style scoped>\n",
       "    .dataframe tbody tr th:only-of-type {\n",
       "        vertical-align: middle;\n",
       "    }\n",
       "\n",
       "    .dataframe tbody tr th {\n",
       "        vertical-align: top;\n",
       "    }\n",
       "\n",
       "    .dataframe thead th {\n",
       "        text-align: right;\n",
       "    }\n",
       "</style>\n",
       "<table border=\"1\" class=\"dataframe\">\n",
       "  <thead>\n",
       "    <tr style=\"text-align: right;\">\n",
       "      <th></th>\n",
       "      <th>Name</th>\n",
       "      <th>Latitude</th>\n",
       "      <th>Longitude</th>\n",
       "    </tr>\n",
       "  </thead>\n",
       "  <tbody>\n",
       "    <tr>\n",
       "      <th>0</th>\n",
       "      <td>NAVE05</td>\n",
       "      <td>-20,9586935449994</td>\n",
       "      <td>-68,7081449538794</td>\n",
       "    </tr>\n",
       "    <tr>\n",
       "      <th>1</th>\n",
       "      <td>NAVE06</td>\n",
       "      <td>-20,9586037115414</td>\n",
       "      <td>-68,70808694091</td>\n",
       "    </tr>\n",
       "    <tr>\n",
       "      <th>2</th>\n",
       "      <td>NAVE07</td>\n",
       "      <td>-20,958531844775</td>\n",
       "      <td>-68,7080289279406</td>\n",
       "    </tr>\n",
       "    <tr>\n",
       "      <th>3</th>\n",
       "      <td>NAVE08</td>\n",
       "      <td>-20,9584509946628</td>\n",
       "      <td>-68,707961246143</td>\n",
       "    </tr>\n",
       "    <tr>\n",
       "      <th>4</th>\n",
       "      <td>NAVE09</td>\n",
       "      <td>-20,9583611612048</td>\n",
       "      <td>-68,7078645578607</td>\n",
       "    </tr>\n",
       "  </tbody>\n",
       "</table>\n",
       "</div>"
      ],
      "text/plain": [
       "     Name           Latitude          Longitude\n",
       "0  NAVE05  -20,9586935449994  -68,7081449538794\n",
       "1  NAVE06  -20,9586037115414    -68,70808694091\n",
       "2  NAVE07   -20,958531844775  -68,7080289279406\n",
       "3  NAVE08  -20,9584509946628   -68,707961246143\n",
       "4  NAVE09  -20,9583611612048  -68,7078645578607"
      ]
     },
     "execution_count": 94,
     "metadata": {},
     "output_type": "execute_result"
    }
   ],
   "source": [
    "# locaciones originales\n",
    "df_locaciones = pd.read_csv('C:/Users/dazac/Downloads/datos mina/datos produccion/generados/datos_nodos.csv')\n",
    "df_locaciones.head()"
   ]
  },
  {
   "cell_type": "code",
   "execution_count": 95,
   "metadata": {},
   "outputs": [
    {
     "data": {
      "text/plain": [
       "0                    CS01\n",
       "1       RS1_STOCKCR04_SME\n",
       "2     UB1_TRANQUEESPA_EST\n",
       "3    RB2_GUANACOCORTO_EST\n",
       "4           RB1_ZORRO_EST\n",
       "Name: PositionedAt, dtype: object"
      ]
     },
     "execution_count": 95,
     "metadata": {},
     "output_type": "execute_result"
    }
   ],
   "source": [
    "# obtener lugares descargas\n",
    "df_descargas = pd.read_csv('C:/Users/dazac/Downloads/datos mina/datos produccion/generados/datos_descargas.csv')\n",
    "lugares_descarga = df_descargas.loc[:, 'PositionedAt']\n",
    "lugares_descarga"
   ]
  },
  {
   "cell_type": "code",
   "execution_count": 96,
   "metadata": {},
   "outputs": [
    {
     "data": {
      "text/plain": [
       "0          UB1_4390_EST\n",
       "1     RS1_STOCKCR04_SME\n",
       "2     RF10A_4390_1032_1\n",
       "3       RF9B_4135_902_1\n",
       "4      RF11_4405_1124_1\n",
       "5     RF10A_4390_1025_1\n",
       "6     RF10A_4375_1005_1\n",
       "7     RF10A_4390_1018_1\n",
       "8       RF9B_4135_905_1\n",
       "9        RS1_PARINA_SME\n",
       "10    RF10A_4390_1028_1\n",
       "Name: PositionedAt, dtype: object"
      ]
     },
     "execution_count": 96,
     "metadata": {},
     "output_type": "execute_result"
    }
   ],
   "source": [
    "# obtener lugares cargas\n",
    "df_cargas = pd.read_csv('C:/Users/dazac/Downloads/datos mina/datos produccion/generados/datos_cargas.csv')\n",
    "lugares_carga = df_cargas.loc[:, 'PositionedAt']\n",
    "lugares_carga"
   ]
  },
  {
   "cell_type": "markdown",
   "metadata": {},
   "source": [
    "## Armado de estructura final para CSV"
   ]
  },
  {
   "cell_type": "code",
   "execution_count": 103,
   "metadata": {},
   "outputs": [
    {
     "data": {
      "text/html": [
       "<div>\n",
       "<style scoped>\n",
       "    .dataframe tbody tr th:only-of-type {\n",
       "        vertical-align: middle;\n",
       "    }\n",
       "\n",
       "    .dataframe tbody tr th {\n",
       "        vertical-align: top;\n",
       "    }\n",
       "\n",
       "    .dataframe thead th {\n",
       "        text-align: right;\n",
       "    }\n",
       "</style>\n",
       "<table border=\"1\" class=\"dataframe\">\n",
       "  <thead>\n",
       "    <tr style=\"text-align: right;\">\n",
       "      <th></th>\n",
       "      <th>Nombre</th>\n",
       "      <th>Latitud</th>\n",
       "      <th>Longitud</th>\n",
       "    </tr>\n",
       "  </thead>\n",
       "  <tbody>\n",
       "    <tr>\n",
       "      <th>0</th>\n",
       "      <td>UB1_4390_EST</td>\n",
       "      <td>-21,0013285041667</td>\n",
       "      <td>-68,6193270977413</td>\n",
       "    </tr>\n",
       "    <tr>\n",
       "      <th>1</th>\n",
       "      <td>RS1_STOCKCR04_SME</td>\n",
       "      <td>-20,9608944647204</td>\n",
       "      <td>-68,7097693170224</td>\n",
       "    </tr>\n",
       "    <tr>\n",
       "      <th>2</th>\n",
       "      <td>RS1_STOCKCR04_SME</td>\n",
       "      <td>-20,9608944647204</td>\n",
       "      <td>-68,7097693170224</td>\n",
       "    </tr>\n",
       "    <tr>\n",
       "      <th>3</th>\n",
       "      <td>RF10A_4390_1032_1</td>\n",
       "      <td>-20,9808464757424</td>\n",
       "      <td>-68,7005259172327</td>\n",
       "    </tr>\n",
       "    <tr>\n",
       "      <th>4</th>\n",
       "      <td>RF9B_4135_902_1</td>\n",
       "      <td>-20,9770285537774</td>\n",
       "      <td>-68,7054376819745</td>\n",
       "    </tr>\n",
       "    <tr>\n",
       "      <th>5</th>\n",
       "      <td>RF11_4405_1124_1</td>\n",
       "      <td>-20,9754115515334</td>\n",
       "      <td>-68,713424134094</td>\n",
       "    </tr>\n",
       "    <tr>\n",
       "      <th>6</th>\n",
       "      <td>RF10A_4390_1025_1</td>\n",
       "      <td>-20,9815022599858</td>\n",
       "      <td>-68,7017635272464</td>\n",
       "    </tr>\n",
       "    <tr>\n",
       "      <th>7</th>\n",
       "      <td>RF10A_4375_1005_1</td>\n",
       "      <td>-20,9813854764904</td>\n",
       "      <td>-68,7101464013234</td>\n",
       "    </tr>\n",
       "    <tr>\n",
       "      <th>8</th>\n",
       "      <td>RF10A_4390_1018_1</td>\n",
       "      <td>-20,9778370548994</td>\n",
       "      <td>-68,7130953939342</td>\n",
       "    </tr>\n",
       "    <tr>\n",
       "      <th>9</th>\n",
       "      <td>RF9B_4135_905_1</td>\n",
       "      <td>-20,9761841192722</td>\n",
       "      <td>-68,7056310585391</td>\n",
       "    </tr>\n",
       "    <tr>\n",
       "      <th>10</th>\n",
       "      <td>RS1_PARINA_SME</td>\n",
       "      <td>-20,9572831597088</td>\n",
       "      <td>-68,7322976868027</td>\n",
       "    </tr>\n",
       "    <tr>\n",
       "      <th>11</th>\n",
       "      <td>RF10A_4390_1028_1</td>\n",
       "      <td>-20,9778190882078</td>\n",
       "      <td>-68,6965520288294</td>\n",
       "    </tr>\n",
       "    <tr>\n",
       "      <th>12</th>\n",
       "      <td>CS01</td>\n",
       "      <td>-20,9871168511109</td>\n",
       "      <td>-68,6334339181316</td>\n",
       "    </tr>\n",
       "    <tr>\n",
       "      <th>13</th>\n",
       "      <td>UB1_TRANQUEESPA_EST</td>\n",
       "      <td>-20,9499796995733</td>\n",
       "      <td>-68,5812319145077</td>\n",
       "    </tr>\n",
       "    <tr>\n",
       "      <th>14</th>\n",
       "      <td>RB2_GUANACOCORTO_EST</td>\n",
       "      <td>-20,9744593168786</td>\n",
       "      <td>-68,7466655655553</td>\n",
       "    </tr>\n",
       "    <tr>\n",
       "      <th>15</th>\n",
       "      <td>RB1_ZORRO_EST</td>\n",
       "      <td>-20,9571753595592</td>\n",
       "      <td>-68,7203663527645</td>\n",
       "    </tr>\n",
       "  </tbody>\n",
       "</table>\n",
       "</div>"
      ],
      "text/plain": [
       "                  Nombre            Latitud           Longitud\n",
       "0           UB1_4390_EST  -21,0013285041667  -68,6193270977413\n",
       "1      RS1_STOCKCR04_SME  -20,9608944647204  -68,7097693170224\n",
       "2      RS1_STOCKCR04_SME  -20,9608944647204  -68,7097693170224\n",
       "3      RF10A_4390_1032_1  -20,9808464757424  -68,7005259172327\n",
       "4        RF9B_4135_902_1  -20,9770285537774  -68,7054376819745\n",
       "5       RF11_4405_1124_1  -20,9754115515334   -68,713424134094\n",
       "6      RF10A_4390_1025_1  -20,9815022599858  -68,7017635272464\n",
       "7      RF10A_4375_1005_1  -20,9813854764904  -68,7101464013234\n",
       "8      RF10A_4390_1018_1  -20,9778370548994  -68,7130953939342\n",
       "9        RF9B_4135_905_1  -20,9761841192722  -68,7056310585391\n",
       "10        RS1_PARINA_SME  -20,9572831597088  -68,7322976868027\n",
       "11     RF10A_4390_1028_1  -20,9778190882078  -68,6965520288294\n",
       "12                  CS01  -20,9871168511109  -68,6334339181316\n",
       "13   UB1_TRANQUEESPA_EST  -20,9499796995733  -68,5812319145077\n",
       "14  RB2_GUANACOCORTO_EST  -20,9744593168786  -68,7466655655553\n",
       "15         RB1_ZORRO_EST  -20,9571753595592  -68,7203663527645"
      ]
     },
     "execution_count": 103,
     "metadata": {},
     "output_type": "execute_result"
    }
   ],
   "source": [
    "se_estaciones = pd.Series.append(lugares_carga, lugares_descarga)\n",
    "se_estaciones = se_estaciones.reset_index(drop=True)\n",
    "se_estaciones = se_estaciones.to_frame(name=\"Name\")\n",
    "df_estaciones = pd.DataFrame.merge(se_estaciones, df_locaciones, on=\"Name\", how=\"inner\")\n",
    "df_estaciones.columns = [\"Nombre\",\"Latitud\",\"Longitud\"]\n",
    "df_estaciones"
   ]
  },
  {
   "cell_type": "code",
   "execution_count": 105,
   "metadata": {
    "scrolled": true
   },
   "outputs": [],
   "source": [
    "#obtener nodos\n",
    "df_estaciones\n",
    "df_puntos = df_locaciones[(~df_locaciones.Name.isin(df_estaciones.Nombre))]\n",
    "\n",
    "# formatear dataframe puntos\n",
    "df_puntos.columns = [\"Nombre\",\"Latitud\",\"Longitud\"]\n",
    "\n",
    "# #exporta estaciones\n",
    "df_estaciones.to_csv('C:/Users/dazac/Downloads/datos mina/datos produccion/estaciones_mina_simio.csv', \n",
    "                sep=',',\n",
    "                encoding='utf-8',\n",
    "                mode='w',\n",
    "                index=False)\n",
    "\n",
    "#exporta puntos/nodos\n",
    "df_puntos.to_csv('C:/Users/dazac/Downloads/datos mina/datos produccion/nodos_mina_simio.csv', \n",
    "                sep=',',\n",
    "                encoding='utf-8',\n",
    "                mode='w',\n",
    "                index=False)"
   ]
  }
 ],
 "metadata": {
  "kernelspec": {
   "display_name": "Python 3",
   "language": "python",
   "name": "python3"
  },
  "language_info": {
   "codemirror_mode": {
    "name": "ipython",
    "version": 3
   },
   "file_extension": ".py",
   "mimetype": "text/x-python",
   "name": "python",
   "nbconvert_exporter": "python",
   "pygments_lexer": "ipython3",
   "version": "3.6.5"
  }
 },
 "nbformat": 4,
 "nbformat_minor": 2
}
