{
 "cells": [
  {
   "cell_type": "markdown",
   "metadata": {},
   "source": [
    "# Lectura de ficheros para obtener caminos solo TN"
   ]
  },
  {
   "cell_type": "code",
   "execution_count": 1,
   "metadata": {},
   "outputs": [],
   "source": [
    "import xml.etree.ElementTree as ET\n",
    "import pandas as pd"
   ]
  },
  {
   "cell_type": "code",
   "execution_count": 2,
   "metadata": {},
   "outputs": [],
   "source": [
    "df_estaciones = pd.read_csv('C:/Users/dazac/Downloads/datos mina/datos produccion/estaciones_mina_simio.csv', delimiter=',')\n",
    "def adaptarNombre(desde, hasta):\n",
    "    if desde in df_estaciones.Nombre.values:\n",
    "        desde = \"Output@\"+desde\n",
    "    if hasta in df_estaciones.Nombre.values:\n",
    "        hasta = \"Input@\"+hasta\n",
    "    return list([desde,hasta])"
   ]
  },
  {
   "cell_type": "code",
   "execution_count": 3,
   "metadata": {},
   "outputs": [],
   "source": [
    "df_nodos = pd.read_csv('C:/Users/dazac/Downloads/datos mina/datos produccion/nodos_mina_simio.csv', delimiter=',')\n",
    "tree = ET.parse('C:/Users/dazac/Downloads/datos mina/datos produccion/caminos_info.xml')\n",
    "root = tree.getroot()\n",
    "roads = root.findall('road')\n",
    "\n",
    "Tipo_objeto = []\n",
    "nombre = []\n",
    "x = []\n",
    "y = []\n",
    "z = []\n",
    "lenght = []\n",
    "width = []\n",
    "height = []\n",
    "link = [] #1\n",
    "inicio = []\n",
    "fin = []\n",
    "prop = []\n",
    "value = []\n",
    "repeat = []\n",
    "\n",
    "for road in roads:\n",
    "    desde = road.find('startingAt').get('resource').replace('-','_').replace('.','')\n",
    "    hasta = road.find('directedTo').get('resource').replace('-','_').replace('.','')\n",
    "    puntos = adaptarNombre(desde,hasta)\n",
    "    \n",
    "    Tipo_objeto.append('Path')\n",
    "    nombre.append(road.get('ID'))\n",
    "    x.append(0)\n",
    "    y.append(0)\n",
    "    z.append(0)\n",
    "    lenght.append(0)\n",
    "    width.append(0)\n",
    "    height.append(0)\n",
    "    link.append(1)\n",
    "    inicio.append(puntos[0])\n",
    "    fin.append(puntos[1])\n",
    "    prop.append('DrawnToScale')\n",
    "    value.append('False')\n",
    "    repeat.append('none')\n",
    "    \n",
    "    Tipo_objeto.append('Path')\n",
    "    nombre.append(road.get('ID'))\n",
    "    x.append(0)\n",
    "    y.append(0)\n",
    "    z.append(0)\n",
    "    lenght.append(0)\n",
    "    width.append(0)\n",
    "    height.append(0)\n",
    "    link.append(1)\n",
    "    inicio.append(puntos[0])\n",
    "    fin.append(puntos[1])\n",
    "    prop.append('LogicalLength')\n",
    "    value.append(road.find('edgeLength').text.replace('.',','))\n",
    "    repeat.append('Kilometers')\n",
    "    \n",
    "datos_dict = {\n",
    "    'Tipo_objeto': Tipo_objeto,\n",
    "    'Identificador_Camino': nombre,\n",
    "    'x': x,\n",
    "    'y': y,\n",
    "    'z': z,\n",
    "    'lenght': lenght,\n",
    "    'width': width,\n",
    "    'height': height,\n",
    "    'link': link,\n",
    "    'Locación_inicio': inicio,\n",
    "    'Locación_fin': fin,\n",
    "    'prop': prop,\n",
    "    'value': value,\n",
    "    'repeat': repeat\n",
    "}\n",
    "df_caminos = pd.DataFrame(datos_dict)\n",
    "df_caminos\n",
    "df_caminos.to_csv(path_or_buf='C:/Users/dazac/Downloads/datos mina/datos produccion/caminos_estaciones.csv',sep='#', header=False,index=False, )"
   ]
  }
 ],
 "metadata": {
  "kernelspec": {
   "display_name": "Python 3",
   "language": "python",
   "name": "python3"
  },
  "language_info": {
   "codemirror_mode": {
    "name": "ipython",
    "version": 3
   },
   "file_extension": ".py",
   "mimetype": "text/x-python",
   "name": "python",
   "nbconvert_exporter": "python",
   "pygments_lexer": "ipython3",
   "version": "3.6.5"
  }
 },
 "nbformat": 4,
 "nbformat_minor": 2
}
